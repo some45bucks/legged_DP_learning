{
 "cells": [
  {
   "cell_type": "code",
   "execution_count": 3,
   "metadata": {},
   "outputs": [
    {
     "name": "stdout",
     "output_type": "stream",
     "text": [
      "[0.] <class 'numpy.ndarray'>\n",
      "[0.] <class 'jaxlib.xla_extension.ArrayImpl'> {cuda(id=0)}\n"
     ]
    },
    {
     "data": {
      "text/html": [
       "<table class=\"show_videos\" style=\"border-spacing:0px;\"><tr><td style=\"padding:1px;\"><video controls width=\"320\" height=\"240\" style=\"object-fit:cover;\" loop autoplay muted>\n",
       "      <source src=\"data:video/mp4;base64,AAAAIGZ0eXBpc29tAAACAGlzb21pc28yYXZjMW1wNDEAAAAIZnJlZQAAJExtZGF0AAACfgYF//963EXpvebZSLeWLNgg2SPu73gyNjQgLSBjb3JlIDE2MyByMzA2MCA1ZGI2YWE2IC0gSC4yNjQvTVBFRy00IEFWQyBjb2RlYyAtIENvcHlsZWZ0IDIwMDMtMjAyMSAtIGh0dHA6Ly93d3cudmlkZW9sYW4ub3JnL3gyNjQuaHRtbCAtIG9wdGlvbnM6IGNhYmFjPTEgcmVmPTMgZGVibG9jaz0xOjA6MCBhbmFseXNlPTB4MzoweDExMyBtZT1oZXggc3VibWU9NyBwc3k9MSBwc3lfcmQ9MS4wMDowLjAwIG1peGVkX3JlZj0xIG1lX3JhbmdlPTE2IGNocm9tYV9tZT0xIHRyZWxsaXM9MSA4eDhkY3Q9MSBjcW09MCBkZWFkem9uZT0yMSwxMSBmYXN0X3Bza2lwPTEgY2hyb21hX3FwX29mZnNldD0tMiB0aHJlYWRzPTcgbG9va2FoZWFkX3RocmVhZHM9MSBzbGljZWRfdGhyZWFkcz0wIG5yPTAgZGVjaW1hdGU9MSBpbnRlcmxhY2VkPTAgYmx1cmF5X2NvbXBhdD0wIGNvbnN0cmFpbmVkX2ludHJhPTAgYmZyYW1lcz0zIGJfcHlyYW1pZD0yIGJfYWRhcHQ9MSBiX2JpYXM9MCBkaXJlY3Q9MSB3ZWlnaHRiPTEgb3Blbl9nb3A9MCB3ZWlnaHRwPTIga2V5aW50PTI1MCBrZXlpbnRfbWluPTEgc2NlbmVjdXQ9NDAgaW50cmFfcmVmcmVzaD0wIHJjPWNxcCBtYnRyZWU9MCBxcD0yMCBpcF9yYXRpbz0xLjQwIHBiX3JhdGlvPTEuMzAgYXE9MACAAAANZWWIhAD/gVbhbxwbdY87AFiJIR/+Dm6726Ej5Mlknt0mSYNQi+2RggKbgXP+D9BhRtvOKaGuGo98m+2BcuGWIIsh0rUFP3YbkMCx6HZGYdBcAAcbcAACazQrptcJrtzE/JjJ5KpcTWu3gQun/sKd2zrwhvJNflRMlOISvlhwnxEJSuKy0coGiYC3yLPX4rAQV4EtFO6P4k5KT1X6aT3OsrSldqGCH3xwamLWVPEFRFI7NoJQZKzEc9IhQZDzDvkAd6GJvUw304vg7acsbn5glLpcro1+Q6AsGIkFeWSY4LjS1Wv1RAa5nVkY/AFfrKrQiwzeAtzEgKmFBneFo+7GrbMtiW17HOjfAAeAEdc3CaIAurJuGwKLsg1rdEjpQcuKPakQeKozBj1pkRkTR+oUaBC8EXzezysyGH362Hn6U6/mKot4Hdsg66Ttn4T68jFHIINaqeiewn8/hSD1817T5WcA45q1BkMlkaFzq+OUKP4M7qT4DnUxM5bTWHFGKbJv+feMNpl7tmkzpFogsdH1HLWSu/EO5WqZ4+F6DkHznTxC5IsXySkhaYdZwNMvksd4XXl7QeAktSeD/X/HwxB4yKf50dA/Y7aMz0zuH1YMhbfigwMV6GacN2pTR5TMS1Y3dhKS7c7/YK6HtR1ZRqkoPgR83blV3uSMk442idiX5tXWHR3TdrcODYlzDtio224PK25KV+PLqiF59GKgkKg/tsJ1i53RQsncXx8va6tYQjJnD9iGCSsnPuyA5cW+BYYs7rWTWuM/qSE3NDu8YRxOBYRhn8GoWZZQ/7rG4eKbP09s9BY+B88yDBIir6+pzXgtVYoXxGaWNhBVxY0m5Wta9NNRUGze2ai8qQKRbnPE6sYX/8K2EgPufxIiLhtqA6+oyC9qXd2ivbJEBERjcEvfsWeideB32HuYeSmg/3lv49y8NLCym/REFl3Y5vxNrbFoD7vBmZhEYB9xO+E8PmTPslyTcgdwBBHUZX1IWbCEZ48z8lYzSF2JyQptWPnsFTJzBUDQSpMD5+nUt1UDyTA77gdZxjJ70DfTyfN/YnYAXVx+6ZXDKE8AGo1KYfZArg1eFBMtejr+OGd2wosiWH91ugpn2cVNuNtHdtDwAjfGN/r9hzAEifUG1mx+8CRT0aCeLCqGU0YDDLImPlcL3tavdURU3JEiRXCP6SxATE6OJxBw1UB9S9h5q0aA/XKxJdoGby46Zm++sWynbsHD0YulIc8TrdgLcsZsrQBsPgTLNsnKh05FNUeIAIG+ktA4H6DkgLtmXrmUVq9g1dqnw+oeBdAywTWNBCIzjVhlOTMslmuWhCtXjjzmGXU+65DtFPwQVL89wOkgs3DFl53E6U+W9q3rzT1UEj+gM2LLFlSoL0G3GEBorxL5bkolpUImDlSOkCN1se5MZKKtY7daedprH1z/QXKsVBmI3EPipb2vic4Urmed1/ZQKfFg91SakwAjaIv/+bvE10XoMA+azqcxQevN3kvRNlTFadhp4fVInOO4/BncK0rGsf1DYmP9UQenbxi5chiPKE3/lFpz46mgqLDENXqHwQ0YBTbrE2ePmIiN4GQ4ck6dFS058vkW1kGpoOZofKX9DKB1TaWfGm5aBdXWNCrXZkLJJpGfXtKDej8G5qJyUqHUzQ9qMSLttmuIUxUmfgKT59TXch4TWbaf/FS5vaiv7aCUrePdXTIcV9npF4r1frYKpViq8vew3rWPGyw7c/2JZ/8zm5u5wzLMK4eBkoaJyXS1D38rMsl8XXOagXvObZ0pBXSIKc3kr6Zfy/eDNVD9MN2CHfYuZPOpJbLgBpOhZFAu2Z/+LxpRRJEb1oWkzZ6vmPTIj1VKgLPtmp9APZwh3KD+myYitfiX/U1sSlFb83FeCk1yWnUauo4P+WaUF0t4XAezZaJlGO9+ZCwzPvyRd5XTvZ5g3v1veu9KvH43LUtTAFpbzr3D2zJsbjHyOqyCWzZv4htzs7Yi0VQNPForhrzC9Hiq2cvB9WNXblvBnJZnLPaiAll7TgyM+F7kaVa1LNBCiT0fUxTaOktg9OWGFHRUr+uJIYJzuTxlz76SloRL+YTAQF1+sBC3HK3KPF+oGrTUPQ87TS3Cme5BhnWhGiuAo0D5TMLxFtCukpStSyQmebMrHug1p1AFc5vC8g4uZX8LocQfKyW9uBHPKh7W76FIxvF40cEzWxZSKu0Fu6xP4GBTX4qWe43q7W7Z+8W5S5FN9ZhCp4evlps0gbIucqMdzg7bT57Ax4RMaZfKPS96s2eh+JPw3fj4ZLKK8ZX8+JrPGzBEPuglvsRJ9NAl3ckaR3OjhXtJt/MvXxS/z11cfCBDLLMp/Rkf2rfZrT5H5AwicPVVwNc8t2YQZAyikRly8Ei3SIH6iHPaQFWXrX9j4T4Ru3Oeo3QaPpP2JqzDSr0p26iAargTyjT4/cJ2ZsgmgZjeFfeDTy06CcOKWqs6fVsC5g6hbfSNlBP+mBMOdhvIWdt6m5FNm3jKKcR85ZAeV522VLdVk/Nx3j2Ig+EhqLUq/0lG8N9Ck8W0jqdOJQZXPLwTo0hXklN4OXoyVDDn+trHD7AYgaX5oYBYdQqCWogJhDnJTfGp5aqmMfpDCBi/43a/Kih/y22ZPjenuNg1E97MLwgdOrwWekvMOgu7IYWBXC7WrfJDBUv3Ee4M336k0ihIGkHltPa6nmCwU0UWHZ5iX0l3hw9L3+dopqbzyzcdybNdO5YFsMYK2AX74U6ctrRsTDFBfoGB2AxLH0D4xV0P0G7yKCL8Wk833/swwf6RvqNwTLymruvxFuk9dj2NDCJnE+YtMc262W6uqYIuY6OKCqkZFh4r583RiejtL5Y9vrD8ZZ/jCLRj5hOV+Wj3B/opZ0VTZHgG0gUtzjf3mn5mitlKm5K7P9Ouj1VWBFfX7xmR2FmcX78fq5UaOD97tdtBMOCX3JulckrjaYq/Efo4bm+yLlQ8CBWDT7s6eC8umOxVckXaOp5bBTXMPow3SMODmLxi7ZPpBYsa8RAOu9+qIxqo22DHeqsXnLy5ULFu6OZ2lzV1syLdOGOanLSe/LaSbS4z+2US2e1Dny5KxqYPj5Y8QoaXM9f8UjQYlWOAN7ArZCBVJc20EKjkrxNP/CnFZvmGUh4CWhIZXXhvaOaIQTvlh9x8X5TaR9iHsMAevsRq5cn96nx0uMZPDn4HHH2g8TlOMCNzjTlHowRTU3AK/TbrvMTyg6fEVZ+ERvKGTE0L3SL8i+9NFGzoj+fnz8sM888z+Vt+8Ry990FT/NPcKJfU7JRYXmY5ytOdL3nyMaHt/LBkj9nzG/WFNE+Hi6144wWko2Q/aDRAKIMW26B/ADLwpja5d0yZzW9XavGs5wNM/kurfPEIllvNGZMzbTiaXxjYahRHwB/GSS2U8Zje+7htMtkGs+pcyQAgQUeYQlPFGVQsXALQFu4hGE9xW9bZwSCyRXDHccTnRaEw6L1/tw2I5faU1ndzwsE+jt1LEOBtz0H2xzwrb8hSSbjwPXbY4Txob9uOT63Vto7TqzfYEenc2OzOTeSW7GKmnzxr8x1GIrKVaK8CJ2gSiTq4DeM6snqQAV+HIl70HDrRTHovxWFBpv1pkeo6Zcp5CDsx7Yg5wbegs4blHHE8NEkWsBVmsTyRu8UmuUZo5De7pb/tyVMwwqdfVUAvNo7vqUPmCUht4KbNhVMwUk7MbVIxmhPb+EmL6DfUS4X+EL4QWk0mMfgbeAzIURTudOxC6D0C59ejz1ZogIg0GP35Zqy3uFq9P/fhQuQZS1co/mYw2jMuS4VxYxKEeaS7bGDw4Kg0dIZxbVSWv9SyNXqqxBmcwhwGgw81YIEjV3VNKoejBCdYbFRO2zqCLqJkIyORVH/jAzGCqwI4ZGtbDhQMqovDfLun7gD/JkPUFxsPuT8MGx1A//ShqRGporynpBkprRXYw3hVu/1tbSw6I/+wpHCP/Gg3fK+XcuGvbpSWriJTd6F1jWDUyiPfJd+AZfMk+LgArmC70XLO/EiYLDosPA5ehI/7HhfB8FCBcynEyw/LklVf8rC0vfMypsHJt7nFrtPjZmG7PmD85/kAQcP6p3wavSrkRz2kPXq6sCt2O1eYlP82ZV3UzPcxEnebw9rKA+6tgyQ8B6i/ejH0YoPfWbdq46m2rOkR+DI2Hv0kpF1X7wXfOA43LO6N3vYbipO3/VNHjff5U+KhEIkxT1LjgXsV7+lg6ffmR/b1ePK6uSFF3068p8Dc3UmIIsr/yyapAAAF5uxGIpDI5sTdr04JeX/qnguRV8Ww2CREDDN6IIA3LHSATXE5PcY2wY7ArqqhXp4einfU40PIHOjkGvGr3Wz/nDo+NpN20PncAjV6L6QqCpxptVUYwZA3gTB2VSd1BZPI8ed4ocH6m0cinet8WJRD9XdxDvKk8KX2qPRWpyAtmn+gjJ5rKL8N3sK0HocO7LHnyuRGcubpE0TNTCRDdWZdmV8Y7wLbf/6bjBdXz3MgS+nRhUtYAJm1ijKgKL5FqZ+sgO2OviEZ6QSwQUoggK+wENFLzXr+P++i2svNRmy0Dn9+lH4/Vp0m+d1fVQAAAGxBmiJsf300615XR2PwRj1f5LG9EPNDf3JSv86P65P9aJBPYAAAAwAVR+92tGkeyC5uidvdwcp5GsayQSmUXkok87wDwpCHgljvKlnGSlaO1DHwbzGTknLcBStU0hIxZFgZG8VodtQ231Ld48EAAAlJAZ5BeSfdeH3yw83xDCKE8fXd/vRjNJzGQgLmRV0ERm/hlDfYSNG/9frDYrrtwC84NcUJO6vxNTrB+6HhlqIVWrv7xHwNOyi85+rSGsI1SRIxMT/G6p9nTQLo74ikajn83ZyPSWFQVbtlIfbAfAbhxKX5sKrG7RpkOXJzSVHgDPBZM7f6An87SMrpUe+JN/N3VL9PZu4dbNgU6kMRXQnPTQyxRC90PUBmZdabW29kh0Fhc3qGKFXJ1VaE0tja7jUeo9G82rFBqNZgLHz5+QGqHORS9+c1iRpT8ohDTZysXKFLkdIEFQ4lpqpxk6zeYEXPi5L0NJiWDmvjkbqqUIJiuTLrM0zUSSk80Q2Dh9ykKwa48OXfMIv+eVsgnV/EvVTpSTwh9CjFBM9g+TyQShKSnX+2gfGX/1t3Jw4Bvz/EEORMO7bUQ/KBSdkYj70eKocaxzU0PAkbdXqCsAc90AngmsPCoutrOv0urEefJ6W03lBITk5GRIxhg7dweEbgjISIGWNqyApuOeakNGd5GcWgZc4+TA8PaApBaW6QJsHVK3WIo+wwq7PS6PCh2A0yRaxT99+VSW42uQ98E4SjXsoDW0qPNvWmMnrqX+UXgvsl5oGG4aX2TFOLteDVmR5lvJVdogdf3kZ4iyTaHdpkuw6X6mMz5iVRiOI1nGMHpZq3yBHezTUmDCGpBYrqerBQItGHVVmRk35vVHhb0aaqPx7o7nWJpd7flEqarMcFCLzVwqahiGz/GlVXkXNpo/z9vuSEqYdHvHyemFlkd48b/x+ETvJqFeF4R9AFbEp/Bv1Yuxf0nT+vhxiEyyJ0QtEF+xKy1AUGMqqyCIXyj+kMlmdeD+u2i8yqESE1HHufzoEX3J0CY9Aj5/IJeV2alrGsBl+7iPEQ3WO0ldKif/6NNOlF5lhmfh0I73lS7vEUbUMJJJVnX9U5qxpl9W+cIuWm9CuDvLNYNgoL7jGIPyYaghM/lcCnwfZlrr23S1kLZuvW+Clz8FBeCVx/MoEH7Uu+wavqcSRm618+SKWR2XCzE3p8D4XcoW7paD4M3JEmDiw0Wq2ntGAL+cmOAdSB+i0TLzTlr4SZRtFoKQK3CwK8gjoGOVy1JQGY6uuGiBuoR2ZJZxB5mRcFdUA1+vlOrJusErU5JLScbpVFDvVDjl+dyApCf3ePn7+xNP7G+SeTf4pOHul9F7yY5OeuIWHY3YCsuuhhQGl2rwqv6WNVjlJEuzUZcVy/0itjVip3BNOUhAyHNbcjJZ61IK+WjT7ZUdyV+4ka05h+BuZseGXm6zEp4sBY7aty/FXj+gwM/4nAac9llw1FrUjPVopqtXEd5wN91eCVIOV7f+yjgZ/4ltD+Fh2NNf5vgWIcoAkLNZH5hoO09gDJUZH9T1hBbY/O9YKi6UCMeK12hd+RU+y4aOb0F2lVP24zgc7sZkTMKJJWKAkU/gK6G4fZ64woCTPjyKK97i83jA+9o4iqMN1qGsmzfllh7uX8Au8xiZd330C0/HvJ0WGSL0w21V0rQ5r3YFd50gRCgesl8JYtf6vqhWvcZk34rzIOh8Pj679ue7Cpv9B+Ad6zQSDQA29VA4LxXmAdRsoBUiz/52V0X7Xf018LjFvTmqJZamZ8NVuI0S71dK6d+PovpZ7tk8caPMnc8fAf0+IjCMf7u7uQnTDTcYYdQ8D3YofhTSe+oxFmWXPKlfyOqmLeUlBauWpZsOrPDky4XCV6s7wTgjSP6K/2tzwda2eBJ+KxmjhtTGyrIbTVVIxPgEEtWFj9GwELaeZMju3ChR9de/ak+YWKB9jqqYmbLSn9Myw7guOhXg/OLW5HZoVTuVPOU/u6Yj0PMJTM1fiL6Mvevar0xB/vfDYbJ47xDaisiE4zhd7zVaCekuAXMZQcCQ+2/4I84bbtbgSH0/Y3rn4pfHZgWsGM5ggFoTAueTKI0djfZE45Y4pR0/lQniEdI3D8Pcb+ba7CVbIzQfj+FWHRNpUvQvWfDU07erKIqgIw3hGpubFm1GnHg3jXzVJCXEJR7mUaK9+/bB5e2LdF4zH6Y90lt8AKp+T2fvM4X75dImejoQ+kcylMHUeJz28IV/uXk8lAwkDaykOSU7MOPrHd9nh/kFnWFimGK+f8rC/t/ckv0yW40Jo+/eDcPlEPreIa/dJNq/fGFleeV7W5ZpRe///6VB3zB9E5/KW+q3p0e3kvYtqLLiKAf9mBfPIqlBc470DBImkThI4qmioR5Kb1+sUdMCJfb7fGp/Tmm8Nqw93FlznprJQOaok5QZodFXcrb5syBR2cPmwzNlZKR0aWIdV6sC2/NwG6LcuvfY6KJ+40QIe0vVygtgPudYs19jdTyvXLbt0BlIelc9ALidhGU3ABXzvn/pvN+0+P0R+GFEw1BMrUqT5FCU/h70Sp6MjSMpVcAtVpPAwemcz332b1VU0UdS9nKiSn8lB4gF/bttMY7r2EjqoXrux8BaRCewXLUqJNZ5Rf+poT74Qz7LAGa/E3Omi6VcQq+glt5DDZ0FubsO7A361raxlilI/F6A7L/wnbncDVnUG8Z+Td9ZpaxvEu+U8g9CVC0Z2Q53TAM6v96MMv3lCaShlfzVjfj3aUHciB9oVsbUomrD1Nt0Cf1GY9pxq+sETuVUy3ViD3Pha7NIRrL0u3ZtvSt0Hdvs7tsh8gTM9fNxgOlEL+zyqft5m7FHhtVaupkP43KjlSa/J3r/bbHFGgF+fqEauSc8+2weRBwjfUMvfudI23mHLHI0iV6ABK094iii6XsL3f1TO+E88qzvDpTjWA3Mr8E/iyo+fsh8yzwGvqZdOiXilbDsQXCwXJv1rgahrKWDybR4y6OFxpVOzUeNqJtF4rMW0JI8jID1aiGcV+3rst2xgfCCGjfdXP5gT+ROGq/l+FhkckVpBqhF55vB8pN0nut12/jvwBjP/ffReL6e0eVsDHOj+pW13CwZ24J7POrCP6V+6K/mBOkPedTsqEizzBXAfpqBemPISFpvXsepHQKFwwJvUeNJP+MB3eQl3mf4ek0teBv3d1N2VN8AEIY15p5Ah11RMCwP+IaAdo3r5YMfFmY/S7QEBh5jeqL3hyvZ1x/HlUepHTt9zLW0CTW4fOupUJE4N816yFwM2k9PTEogYkIYH2tjnpTPdIeQ4CU7ZU2h4oIvM6E2XzgQAACphBmkM8IZMph/9TUYCNojvdivXBgrnyIh43HJEweO2U/OOqyW/mDTnTbAboAAADAAADAIX+92tGkK/80RFSxtqSnmMEFamCcB1VUloqHxCxabuMwHjGDmQ9UA612GPS5VvUuO+wlg9pVpvwipAtRtwlxuz06QafTM6RhKmc8DmlbzKD5vL3nIsJt+KGxMhalQ73SmFmBNjssBx8p2OUISz+/aybNJP6qCzCV2AP9on3Tp7jB1v2ZUBHkNC8g6vMRIkNOqi4iYlQYAUSwFE9/zq5oxcAIIlWMXOA5MFvCFea5F2FUYAqK1AZIiyYySVumbIJk/MZOO/tpunnm1rGzjDDbwtoe+xca07haXoQIrgT3WBREhFMlObzCpVkJzAbNdU4jUtZUrPDxCZwvN0i4jh0B70E1e1brO7ZM5dEtOdU/3p6u5Ad8qMJ48jewkdLc5jPeFKIn+FMh58NK3BsKwT8crG/CVAmNyGpHxOp3ebm3DY1v7ikh6Twqz9ESFS0lOnZXBRVd8h2Or4N/WYn56o27gFu/okiIEnZR4z/m7OotpBEHeHMwOJ04GQyaj360NTWLBe9o9v1uFcEUqhkqXMcmHTPhQV4ont1gO0FkDFDLaLBl4e4aK+bgSv27IoIKUOj8aCZbfaBbVOZnOMYhWRjcUL4oigXP6uASERsyZJtVZhxkKKu+45jfFUQf32rT+5CV0wY89ztJ/BNbDK8JAata8WQf442Z+BesCxL0IqAHiWfCKoLvdEVV/3hT8ml6tgfCmE7FKsNYe7O2EqlCzd9Fa94Lw9O37h70HQqBF/sbAd72awDNR8lz7qdK/lVUJI4SGU2FMrxNtE1TnWYvNFhDnP6bD1tyDuTIIj2s8Wfi6StqSOp6aVEBEqhMAGmOUdRgDw44m2YA2aDkUkvl76RLaTPLnuCoTpwnZW8ica80CrtUaSbUPUjYHefSEg23fNx3Hhvsf0gAcUuLGMzU9+DwbgMtEnw3NRubQxZBWIZF8YFKs0yfn8JhA+ARqYfXs0kOCgRcVZIhnF5TccXeeZ6JOv5VT1cd/VkM3H7QDfNi+I5dz1GceWDt2Bskh7CTbpHuQ292d74jJEhYTvBvcOiihtZL7uwOxcKVOcoIYzlRQlBQ/BxjipS1k4PIaiH2PrrPTkNPoszm8rLgN7hgJeHvLgxWb188Cd1zMiF4A19XfwU6Regte6w/ihLaD0nrH+34Z1qf2lOyvTZam0PgL2IHRczqzEQGnwgqh6LBi/wExvMZfFCSJF4+bIddafqmAdVmU9PWZvtbaFHbW67441ysz9pPf1FGKFQucCCI5lMzFC8C59ox5EPYNh4XF0dwiI8YVxakUOgg1OVaxrFzPs58MOdfLs2F6popMv/EomrHUsrXz/ORkmEM7JyfPjlcgHCN/rk+o0Oa/GrZvuf3HtAnBxus34km9eeEfisrqu1agemYLaAH89N6MjO9H4Fs7L11t5IPhi4cr5WjdYuv2RpiPzeRZT/Q5y59NOrTh8XLhjrpB8KrmSq7zKq+1sLljH2K/RjdMsLxgBc2jcV5iODdUz49QXnGOPIwGfYmo+6dsrrbdjeKTDrO2ts++DdqeI8np7SvaNS4BMlZ8zhbQJ3yWIUWphtx9fPOde3WRZM8r8VjZAWMQfVevMTEP+l5EvZiGeu7Aj2Kpz4xqJ8RqIp/oxH7O+y+1PpFrUaUSVxnsrwxGPF0Dlr5ZDzw3RDO6V/Fi2grHhuIiUxkazAoNZH64KEDRJsKeoSrPMKTSfiErqRP2JP03W5zVb7aTToaw9CmIxp+7wUf2XrEi0U4Xp0XqSH4JbCiI7t2foZ+Dc1QdLlUazY8Cp7NLiLXwnpXK5ucPD8wYHuH4bb7nuA2UiTC9Nx8hvXHP4XekXhissHmHM/ZqIyBBLnopkfi+HMYYABHZPhjAVX+pT+jfyv3uyrLhZgHgDHc3/TwGqHa/uiqvRhX37BUPzc8sqWKWYu4PCRz4JR3omvWaFN6Yvm0hPQQP+hFfme/tbqp2dAQQukCc7JbClaHDa95/6HALExp98JpR+WtQbbQ4XR4OxM3zkAcsZBn+pdJi7MmyozmBuk7W90jkfX4sBUND1wHylMBg5wVSRkrBLmMYEzHuwtyT3rez2SqKcVCYh2Si4tRBLdOu4jDBDj0OyvNhqe9e1CqhwR3MFLC0abrjh0u6MoGVhgLFxRSxd3N8mp63o4asj+lkYVRrT8v8wiy1pBl3Txiid2rOsAsCOQFykWzI7hPY/0KBx92PolNJY3ViV+3aDTL7Eh2rZ1HLIiuTUhu5GDSNYl4JdCM3V4jLBvuIWUrsWnDkMtaEFHWhiKCSc4KNOyFKqBVHh+wG0TnBKDdlkuL4zgJSZt4XLF6tG6mb2HAskpCfFv7kj2ozV+hAI+Xv9G690zvG4Pud5jVoDK/HVhoAEF///tplMMENFxk3tZ3uRasEyl+7YmJ1V1F5z8ZKvweNtX9UzEIoluQk6YxnKlI6JgptLCz6m+xgNghxOKOgVPu00Ni6erDyu3HgY4HjzhnkapqWLhNJw9gEOsem69MtGwkyusC1V78OmjkuiJySIFNm8zEQzEIiJi/Ns/vmc2Q6CxjzEFK8RQAmiezeXOwZyAqdgWtv6AnQ57WaFBj+Lf9Ya0De07Zv5zX9JT2hDJ9tC80AxBKwQs6Ca5B2hR7wVqDVqxQvwIafGitUD6uKj7v9GOqmwZEPSuXTWcBdP4sHQ2rPHDI2z9tv7Bz2XwNWiPh8wqG6fQ0mgSjLv4UmGB/pOB7XqgUP0h6Mw4umVHy1J/pUnxyQd50Vtq0V+s9VzuWDKaL9Dd6pUBmK3b7gaPnfaeefbsT8SUpxl2teRCONTCHGNvRRlAj0U7YQLXBjpnQvCON+1jZST93CYLKPXRTYtkB6FB4Mg/ylexilWaDt2iBpu3l55zsPDwkmPtYT7tvEub8UdZc1Ig/kZ7gFOMjcwt686DCzqv91jD0X9Xaqs/1mhghE8MoIm9gCJ0vwfW1NrlCnS8ENIDHb66u8PZaWSLU68ySM5//W1FbEMqYfvgA8TcDWXABhkSx5tIwwuQRnQFbCZa+1/chHavniIL1RV6VUR9gRBGK6Y8fpFisikrQ4+XeIkXpsghL9F2xjTogR1ONh60INJwG7ZE4kS/Tw2WuxbQ9dpD3BCC8OR+b/DXWc58odgQXhwzVczMBQYbMY3IFLbGLHasf4Puz3piZRC8d+JT2Ec21bhdqLM8xx2iPKHXreP1hdl7f0FKwTKoLydlV6XeXhOtgLdmzyJ+jX+z9E2PSf+AcFJbs+OUI6UqWR46nexPYn7yvfryiLYdFdH5E6hdJs7kJB3UIKtQuLfT3zFGZiOcN9uGmMGpRqTxI3NUjd5PC5TXg2Kka6V7K2DDu+ug7yl3Z1FUlbAvpYXWSuQpJ5pXfheEZGDrS/YiaZJiDH0xMX1nZtA4Rpx8JNqq3TJVgb0hf5kFQH7GQY11XysJAQM0qyONfPtSw40ML08Au8gm6IUpZy63GgAYV/REBYWpiGc4pL8FEifdwZjbXkYkOgkjWsMC08IesjJB/9qauPj8XF/Ea+7VkU42fv4EcBj35NLKuUP0LPAPSGxu2Hr20oAAAANabW9vdgAAAGxtdmhkAAAAAAAAAAAAAAAAAAAD6AAAD6AAAQAAAQAAAAAAAAAAAAAAAAEAAAAAAAAAAAAAAAAAAAABAAAAAAAAAAAAAAAAAABAAAAAAAAAAAAAAAAAAAAAAAAAAAAAAAAAAAAAAAAAAgAAAoR0cmFrAAAAXHRraGQAAAADAAAAAAAAAAAAAAABAAAAAAAAD6AAAAAAAAAAAAAAAAAAAAAAAAEAAAAAAAAAAAAAAAAAAAABAAAAAAAAAAAAAAAAAABAAAAAAUAAAADwAAAAAAAkZWR0cwAAABxlbHN0AAAAAAAAAAEAAA+gAACAAAABAAAAAAH8bWRpYQAAACBtZGhkAAAAAAAAAAAAAAAAAABAAAABAABVxAAAAAAALWhkbHIAAAAAAAAAAHZpZGUAAAAAAAAAAAAAAABWaWRlb0hhbmRsZXIAAAABp21pbmYAAAAUdm1oZAAAAAEAAAAAAAAAAAAAACRkaW5mAAAAHGRyZWYAAAAAAAAAAQAAAAx1cmwgAAAAAQAAAWdzdGJsAAAAr3N0c2QAAAAAAAAAAQAAAJ9hdmMxAAAAAAAAAAEAAAAAAAAAAAAAAAAAAAAAAUAA8ABIAAAASAAAAAAAAAABAAAAAAAAAAAAAAAAAAAAAAAAAAAAAAAAAAAAAAAAAAAAGP//AAAANWF2Y0MBZAAM/+EAGGdkAAys2UFB+hAAAAMAEAAAAwAg8UKZYAEABmjr4bLIsP34+AAAAAAUYnRydAAAAAAAAEiIAABIiAAAABhzdHRzAAAAAAAAAAEAAAAEAABAAAAAABRzdHNzAAAAAAAAAAEAAAABAAAAMGN0dHMAAAAAAAAABAAAAAEAAIAAAAAAAQAAwAAAAAABAABAAAAAAAEAAIAAAAAAHHN0c2MAAAAAAAAAAQAAAAEAAAAEAAAAAQAAACRzdHN6AAAAAAAAAAAAAAAEAAAP6wAAAHAAAAlNAAAKnAAAABRzdGNvAAAAAAAAAAEAAAAwAAAAYnVkdGEAAABabWV0YQAAAAAAAAAhaGRscgAAAAAAAAAAbWRpcmFwcGwAAAAAAAAAAAAAAAAtaWxzdAAAACWpdG9vAAAAHWRhdGEAAAABAAAAAExhdmY1OC43Ni4xMDA=\" type=\"video/mp4\"/>\n",
       "      This browser does not support the video tag.\n",
       "      </video></td></tr></table>"
      ],
      "text/plain": [
       "<IPython.core.display.HTML object>"
      ]
     },
     "metadata": {},
     "output_type": "display_data"
    }
   ],
   "source": [
    "from datetime import datetime\n",
    "import functools\n",
    "import jax\n",
    "from IPython.display import HTML\n",
    "from jax import numpy as jp\n",
    "import numpy as np\n",
    "from typing import Any, Dict, Sequence, Tuple, Union\n",
    "\n",
    "from brax import base\n",
    "from brax import envs\n",
    "from brax import math\n",
    "from brax.base import Base, Motion, Transform\n",
    "from brax.envs.base import Env, PipelineEnv, State\n",
    "from brax.mjx.base import State as MjxState\n",
    "from brax.training.agents.ppo import train as ppo\n",
    "from brax.training.agents.ppo import networks as ppo_networks\n",
    "from brax.io import html, mjcf, model\n",
    "\n",
    "from etils import epath\n",
    "from flax import struct\n",
    "from matplotlib import pyplot as plt\n",
    "import mediapy as media\n",
    "from ml_collections import config_dict\n",
    "import mujoco\n",
    "from mujoco import mjx\n",
    "\n",
    "ctx = mujoco.GLContext(100, 100)\n",
    "ctx.make_current()\n",
    "xml = \"\"\"\n",
    "<mujoco>\n",
    "  <worldbody>\n",
    "    <light name=\"top\" pos=\"0 0 1\"/>\n",
    "    <body name=\"box_and_sphere\" euler=\"0 0 -30\">\n",
    "      <joint name=\"swing\" type=\"hinge\" axis=\"1 -1 0\" pos=\"-.2 -.2 -.2\"/>\n",
    "      <geom name=\"red_box\" type=\"box\" size=\".2 .2 .2\" rgba=\"1 0 0 1\"/>\n",
    "      <geom name=\"green_sphere\" pos=\".2 .2 .2\" size=\".1\" rgba=\"0 1 0 1\"/>\n",
    "    </body>\n",
    "  </worldbody>\n",
    "</mujoco>\n",
    "\"\"\"\n",
    "\n",
    "# Make model, data, and renderer\n",
    "mj_model = mujoco.MjModel.from_xml_string(xml)\n",
    "mj_data = mujoco.MjData(mj_model)\n",
    "renderer = mujoco.Renderer(mj_model)\n",
    "\n",
    "mjx_model = mjx.put_model(mj_model)\n",
    "mjx_data = mjx.put_data(mj_model, mj_data)\n",
    "\n",
    "print(mj_data.qpos, type(mj_data.qpos))\n",
    "print(mjx_data.qpos, type(mjx_data.qpos), mjx_data.qpos.devices())\n",
    "\n",
    "# enable joint visualization option:\n",
    "scene_option = mujoco.MjvOption()\n",
    "scene_option.flags[mujoco.mjtVisFlag.mjVIS_JOINT] = True\n",
    "\n",
    "duration = 3.8  # (seconds)\n",
    "framerate = 1  # (Hz)\n",
    "\n",
    "frames = []\n",
    "mujoco.mj_resetData(mj_model, mj_data)\n",
    "while mj_data.time < duration:\n",
    "  mujoco.mj_step(mj_model, mj_data)\n",
    "  if len(frames) < mj_data.time * framerate:\n",
    "    renderer.update_scene(mj_data, scene_option=scene_option)\n",
    "    pixels = renderer.render()\n",
    "    frames.append(pixels)\n",
    "\n",
    "# Simulate and display video.\n",
    "media.show_video(frames, fps=framerate)"
   ]
  }
 ],
 "metadata": {
  "kernelspec": {
   "display_name": "mujoco_env",
   "language": "python",
   "name": "python3"
  },
  "language_info": {
   "codemirror_mode": {
    "name": "ipython",
    "version": 3
   },
   "file_extension": ".py",
   "mimetype": "text/x-python",
   "name": "python",
   "nbconvert_exporter": "python",
   "pygments_lexer": "ipython3",
   "version": "3.10.14"
  }
 },
 "nbformat": 4,
 "nbformat_minor": 2
}
