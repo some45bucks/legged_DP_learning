{
 "cells": [
  {
   "cell_type": "code",
   "execution_count": 1,
   "metadata": {},
   "outputs": [
    {
     "name": "stdout",
     "output_type": "stream",
     "text": [
      "All environments registered successfully!\n"
     ]
    }
   ],
   "source": [
    "from functools import partial\n",
    "import os\n",
    "from utils.save_load import load_config, save_params, record, load_params\n",
    "from train.train_ppo import train_ppo\n",
    "from train.train_env import train_env\n",
    "from networks.ppo import make_ppo_network, make_ppo_policy\n",
    "from networks.networks import make_feed_forward\n",
    "from rendering.display import render_rollout\n",
    "from envs.custom_wrappers import CompleteAutoNormWrapper, HiddenStateWrapper\n",
    "from brax.training.acme import running_statistics\n",
    "from utils.data_funcs import gather_rollout_data\n",
    "\n",
    "\n",
    "from brax import envs\n",
    "import envs as my_envs #don't remove this import"
   ]
  },
  {
   "cell_type": "code",
   "execution_count": 2,
   "metadata": {},
   "outputs": [],
   "source": [
    "MAIN_FOLDER = '../'\n",
    "CONFIG_PATH = f\"{MAIN_FOLDER}configs/debug_config.yaml\"\n",
    "params = load_config(CONFIG_PATH)\n",
    "save_folder = f\"{MAIN_FOLDER}data/go1/{params['agent_network']['name']}\"\n",
    "network_param_path_save = f\"{save_folder}/network_params/\"\n",
    "env_param_path_save = f\"{save_folder}/env_params/\"\n",
    "rollout_path_save = f\"{save_folder}/rollouts/\"\n",
    "\n",
    "os.makedirs(network_param_path_save, exist_ok=True)\n",
    "os.makedirs(rollout_path_save, exist_ok=True)"
   ]
  },
  {
   "cell_type": "code",
   "execution_count": 3,
   "metadata": {},
   "outputs": [],
   "source": [
    "env = envs.get_environment(params['enviroment']['name'],**params['enviroment']['enviroment_params'], scene_path=f\"{MAIN_FOLDER}data/go1/\")"
   ]
  },
  {
   "cell_type": "code",
   "execution_count": 4,
   "metadata": {},
   "outputs": [
    {
     "name": "stdout",
     "output_type": "stream",
     "text": [
      "Starting training Env...\n"
     ]
    },
    {
     "ename": "NameError",
     "evalue": "name 'params' is not defined",
     "output_type": "error",
     "traceback": [
      "\u001b[0;31m---------------------------------------------------------------------------\u001b[0m",
      "\u001b[0;31mNameError\u001b[0m                                 Traceback (most recent call last)",
      "Cell \u001b[0;32mIn[4], line 11\u001b[0m\n\u001b[1;32m      8\u001b[0m \u001b[38;5;28;01mif\u001b[39;00m \u001b[38;5;129;01mnot\u001b[39;00m os\u001b[38;5;241m.\u001b[39mpath\u001b[38;5;241m.\u001b[39mexists(final_network_param_save):\n\u001b[1;32m      9\u001b[0m     \u001b[38;5;28mprint\u001b[39m(\u001b[38;5;124m'\u001b[39m\u001b[38;5;124mStarting training Env...\u001b[39m\u001b[38;5;124m'\u001b[39m)\n\u001b[0;32m---> 11\u001b[0m     mk_policy, norm_params, env_network_params, metrics \u001b[38;5;241m=\u001b[39m \u001b[43mtrain_env\u001b[49m\u001b[43m(\u001b[49m\u001b[43mtrain_data\u001b[49m\u001b[38;5;241;43m=\u001b[39;49m\u001b[43mtrain_data\u001b[49m\u001b[43m,\u001b[49m\u001b[43mmake_in_part\u001b[49m\u001b[38;5;241;43m=\u001b[39;49m\u001b[43mmake_in_network_partial\u001b[49m\u001b[43m,\u001b[49m\u001b[43m \u001b[49m\u001b[43mmake_out_part\u001b[49m\u001b[38;5;241;43m=\u001b[39;49m\u001b[43mmake_out_network_partial\u001b[49m\u001b[43m,\u001b[49m\u001b[43menvironment\u001b[49m\u001b[38;5;241;43m=\u001b[39;49m\u001b[43menv\u001b[49m\u001b[43m,\u001b[49m\u001b[43m \u001b[49m\u001b[38;5;241;43m*\u001b[39;49m\u001b[38;5;241;43m*\u001b[39;49m\u001b[43mparams\u001b[49m\u001b[43m[\u001b[49m\u001b[38;5;124;43m'\u001b[39;49m\u001b[38;5;124;43menv_train\u001b[39;49m\u001b[38;5;124;43m'\u001b[39;49m\u001b[43m]\u001b[49m\u001b[43m,\u001b[49m\u001b[43m \u001b[49m\u001b[43mparam_path\u001b[49m\u001b[38;5;241;43m=\u001b[39;49m\u001b[43menv_param_path_save\u001b[49m\u001b[43m)\u001b[49m\n\u001b[1;32m     13\u001b[0m     save_params((norm_params,env_network_params), path\u001b[38;5;241m=\u001b[39mfinal_network_param_save)\n\u001b[1;32m     15\u001b[0m     \u001b[38;5;28mprint\u001b[39m(\u001b[38;5;124m\"\u001b[39m\u001b[38;5;124mTraining complete\u001b[39m\u001b[38;5;124m\"\u001b[39m)\n",
      "File \u001b[0;32m~/phys_sim/src/train/train_env.py:267\u001b[0m, in \u001b[0;36mtrain_env\u001b[0;34m(train_data, make_in_part, make_out_part, environment, name, num_envs, learning_rate, seed, unroll_length, batch_size, type_size, type_split_every, data_loops, num_minibatches, normalize_observations, progress_fn, policy_params_fn, randomization_fn, param_path)\u001b[0m\n\u001b[1;32m    264\u001b[0m   epoch_key, local_key \u001b[38;5;241m=\u001b[39m jax\u001b[38;5;241m.\u001b[39mrandom\u001b[38;5;241m.\u001b[39msplit(local_key)\n\u001b[1;32m    265\u001b[0m   epoch_keys \u001b[38;5;241m=\u001b[39m jax\u001b[38;5;241m.\u001b[39mrandom\u001b[38;5;241m.\u001b[39msplit(epoch_key, local_devices_to_use)\n\u001b[1;32m    266\u001b[0m   (training_state, data_chunk_id, training_metrics) \u001b[38;5;241m=\u001b[39m (\n\u001b[0;32m--> 267\u001b[0m       \u001b[43mtraining_epoch_with_timing\u001b[49m\u001b[43m(\u001b[49m\u001b[43mtraining_state\u001b[49m\u001b[43m,\u001b[49m\u001b[43m \u001b[49m\u001b[43mdata_chunk_id\u001b[49m\u001b[43m,\u001b[49m\u001b[43m \u001b[49m\u001b[43mepoch_keys\u001b[49m\u001b[43m)\u001b[49m\n\u001b[1;32m    268\u001b[0m   )\n\u001b[1;32m    270\u001b[0m   key_envs \u001b[38;5;241m=\u001b[39m jax\u001b[38;5;241m.\u001b[39mvmap(\n\u001b[1;32m    271\u001b[0m       \u001b[38;5;28;01mlambda\u001b[39;00m x, s: jax\u001b[38;5;241m.\u001b[39mrandom\u001b[38;5;241m.\u001b[39msplit(x[\u001b[38;5;241m0\u001b[39m], s),\n\u001b[1;32m    272\u001b[0m       in_axes\u001b[38;5;241m=\u001b[39m(\u001b[38;5;241m0\u001b[39m, \u001b[38;5;28;01mNone\u001b[39;00m))(key_envs, key_envs\u001b[38;5;241m.\u001b[39mshape[\u001b[38;5;241m1\u001b[39m])\n\u001b[1;32m    274\u001b[0m \u001b[38;5;66;03m# If there was no mistakes the training_state should still be identical on all\u001b[39;00m\n\u001b[1;32m    275\u001b[0m \u001b[38;5;66;03m# devices.\u001b[39;00m\n",
      "File \u001b[0;32m~/phys_sim/src/train/train_env.py:230\u001b[0m, in \u001b[0;36mtrain_env.<locals>.training_epoch_with_timing\u001b[0;34m(training_state, data_chunk_id, key)\u001b[0m\n\u001b[1;32m    228\u001b[0m t \u001b[38;5;241m=\u001b[39m time\u001b[38;5;241m.\u001b[39mtime()\n\u001b[1;32m    229\u001b[0m training_state \u001b[38;5;241m=\u001b[39m _strip_weak_type(training_state)\n\u001b[0;32m--> 230\u001b[0m result \u001b[38;5;241m=\u001b[39m \u001b[43mtraining_epoch\u001b[49m\u001b[43m(\u001b[49m\u001b[43mtraining_state\u001b[49m\u001b[43m,\u001b[49m\u001b[43m \u001b[49m\u001b[43mdata_chunk_id\u001b[49m\u001b[43m,\u001b[49m\u001b[43m \u001b[49m\u001b[43mkey\u001b[49m\u001b[43m)\u001b[49m\n\u001b[1;32m    231\u001b[0m training_state, data_chunk_id, metrics \u001b[38;5;241m=\u001b[39m _strip_weak_type(result)\n\u001b[1;32m    233\u001b[0m metrics \u001b[38;5;241m=\u001b[39m jax\u001b[38;5;241m.\u001b[39mtree_util\u001b[38;5;241m.\u001b[39mtree_map(jp\u001b[38;5;241m.\u001b[39mmean, metrics)\n",
      "    \u001b[0;31m[... skipping hidden 12 frame]\u001b[0m\n",
      "File \u001b[0;32m~/phys_sim/src/train/train_env.py:214\u001b[0m, in \u001b[0;36mtrain_env.<locals>.training_epoch\u001b[0;34m(training_state, data_chunk_id, key)\u001b[0m\n\u001b[1;32m    212\u001b[0m \u001b[38;5;28;01mdef\u001b[39;00m \u001b[38;5;21mtraining_epoch\u001b[39m(training_state: TrainingState, data_chunk_id: \u001b[38;5;28mint\u001b[39m,\n\u001b[1;32m    213\u001b[0m                    key: PRNGKey) \u001b[38;5;241m-\u001b[39m\u001b[38;5;241m>\u001b[39m Tuple[TrainingState, envs\u001b[38;5;241m.\u001b[39mState, Metrics]:\n\u001b[0;32m--> 214\u001b[0m   (training_state, data_chunk_id, _), loss_metrics \u001b[38;5;241m=\u001b[39m \u001b[43mjax\u001b[49m\u001b[38;5;241;43m.\u001b[39;49m\u001b[43mlax\u001b[49m\u001b[38;5;241;43m.\u001b[39;49m\u001b[43mscan\u001b[49m\u001b[43m(\u001b[49m\n\u001b[1;32m    215\u001b[0m \u001b[43m      \u001b[49m\u001b[43mtraining_step\u001b[49m\u001b[43m,\u001b[49m\u001b[43m \u001b[49m\u001b[43m(\u001b[49m\u001b[43mtraining_state\u001b[49m\u001b[43m,\u001b[49m\u001b[43m \u001b[49m\u001b[43mdata_chunk_id\u001b[49m\u001b[43m,\u001b[49m\u001b[43m \u001b[49m\u001b[43mkey\u001b[49m\u001b[43m)\u001b[49m\u001b[43m,\u001b[49m\u001b[43m \u001b[49m\u001b[43m(\u001b[49m\u001b[43m)\u001b[49m\u001b[43m,\u001b[49m\n\u001b[1;32m    216\u001b[0m \u001b[43m      \u001b[49m\u001b[43mlength\u001b[49m\u001b[38;5;241;43m=\u001b[39;49m\u001b[43mdata_length\u001b[49m\u001b[43m)\u001b[49m\n\u001b[1;32m    218\u001b[0m   loss_metrics \u001b[38;5;241m=\u001b[39m jax\u001b[38;5;241m.\u001b[39mtree_util\u001b[38;5;241m.\u001b[39mtree_map(jp\u001b[38;5;241m.\u001b[39mmean, loss_metrics)\n\u001b[1;32m    219\u001b[0m   \u001b[38;5;28;01mreturn\u001b[39;00m training_state, data_chunk_id, loss_metrics\n",
      "    \u001b[0;31m[... skipping hidden 9 frame]\u001b[0m\n",
      "File \u001b[0;32m~/phys_sim/src/train/train_env.py:197\u001b[0m, in \u001b[0;36mtrain_env.<locals>.training_step\u001b[0;34m(carry, unused_t)\u001b[0m\n\u001b[1;32m    194\u001b[0m training_state, data_chunk_id, key \u001b[38;5;241m=\u001b[39m carry\n\u001b[1;32m    195\u001b[0m key_grad, new_key \u001b[38;5;241m=\u001b[39m jax\u001b[38;5;241m.\u001b[39mrandom\u001b[38;5;241m.\u001b[39msplit(key, \u001b[38;5;241m2\u001b[39m)    \n\u001b[0;32m--> 197\u001b[0m (net_optimizer_state, type_optimizzer_state, net_params, type_params, norm_params, data_chunk_id, _), loss_metrics \u001b[38;5;241m=\u001b[39m \u001b[43mjax\u001b[49m\u001b[38;5;241;43m.\u001b[39;49m\u001b[43mlax\u001b[49m\u001b[38;5;241;43m.\u001b[39;49m\u001b[43mscan\u001b[49m\u001b[43m(\u001b[49m\n\u001b[1;32m    198\u001b[0m \u001b[43m    \u001b[49m\u001b[43mminibatch_step\u001b[49m\u001b[43m,\u001b[49m\n\u001b[1;32m    199\u001b[0m \u001b[43m    \u001b[49m\u001b[43m(\u001b[49m\u001b[43mtraining_state\u001b[49m\u001b[38;5;241;43m.\u001b[39;49m\u001b[43mnet_optimizer_state\u001b[49m\u001b[43m,\u001b[49m\u001b[43m \u001b[49m\u001b[43mtraining_state\u001b[49m\u001b[38;5;241;43m.\u001b[39;49m\u001b[43mtype_optimizer_state\u001b[49m\u001b[43m,\u001b[49m\u001b[43m \u001b[49m\u001b[43mtraining_state\u001b[49m\u001b[38;5;241;43m.\u001b[39;49m\u001b[43mparams\u001b[49m\u001b[43m,\u001b[49m\u001b[43m \u001b[49m\u001b[43mtraining_state\u001b[49m\u001b[38;5;241;43m.\u001b[39;49m\u001b[43mtype_params\u001b[49m\u001b[43m,\u001b[49m\u001b[43m \u001b[49m\u001b[43mtraining_state\u001b[49m\u001b[38;5;241;43m.\u001b[39;49m\u001b[43mnormalizer_params\u001b[49m\u001b[43m,\u001b[49m\u001b[43m \u001b[49m\u001b[43mdata_chunk_id\u001b[49m\u001b[43m,\u001b[49m\u001b[43m \u001b[49m\u001b[43mkey_grad\u001b[49m\u001b[43m)\u001b[49m\u001b[43m,\u001b[49m\u001b[43m \u001b[49m\u001b[43m(\u001b[49m\u001b[43m)\u001b[49m\u001b[43m,\u001b[49m\n\u001b[1;32m    200\u001b[0m \u001b[43m    \u001b[49m\u001b[43mlength\u001b[49m\u001b[38;5;241;43m=\u001b[39;49m\u001b[43mnum_minibatches\u001b[49m\u001b[43m)\u001b[49m\n\u001b[1;32m    202\u001b[0m new_training_state \u001b[38;5;241m=\u001b[39m TrainingState(\n\u001b[1;32m    203\u001b[0m   net_optimizer_state\u001b[38;5;241m=\u001b[39mnet_optimizer_state,\n\u001b[1;32m    204\u001b[0m   type_optimizer_state\u001b[38;5;241m=\u001b[39mtype_optimizzer_state,\n\u001b[0;32m   (...)\u001b[0m\n\u001b[1;32m    207\u001b[0m   normalizer_params\u001b[38;5;241m=\u001b[39mnorm_params,\n\u001b[1;32m    208\u001b[0m   env_steps\u001b[38;5;241m=\u001b[39m\u001b[38;5;241m0\u001b[39m)\n\u001b[1;32m    210\u001b[0m \u001b[38;5;28;01mreturn\u001b[39;00m (new_training_state, data_chunk_id, new_key), loss_metrics\n",
      "    \u001b[0;31m[... skipping hidden 9 frame]\u001b[0m\n",
      "File \u001b[0;32m~/phys_sim/src/train/train_env.py:173\u001b[0m, in \u001b[0;36mtrain_env.<locals>.minibatch_step\u001b[0;34m(carry, xs)\u001b[0m\n\u001b[1;32m    170\u001b[0m net_optimizer_state, type_optimizer_state, net_params, type_params, normalizer_params, data_chunk_id, key \u001b[38;5;241m=\u001b[39m carry\n\u001b[1;32m    171\u001b[0m key, key_loss\u001b[38;5;241m=\u001b[39m jax\u001b[38;5;241m.\u001b[39mrandom\u001b[38;5;241m.\u001b[39msplit(key)\n\u001b[0;32m--> 173\u001b[0m (_, out_data), net_params, net_optimizer_state \u001b[38;5;241m=\u001b[39m \u001b[43mnet_gradient_update_fn\u001b[49m\u001b[43m(\u001b[49m\n\u001b[1;32m    174\u001b[0m \u001b[43m    \u001b[49m\u001b[43mnet_params\u001b[49m\u001b[43m,\u001b[49m\n\u001b[1;32m    175\u001b[0m \u001b[43m    \u001b[49m\u001b[43mtype_params\u001b[49m\u001b[43m,\u001b[49m\n\u001b[1;32m    176\u001b[0m \u001b[43m    \u001b[49m\u001b[43mdata_chunk_id\u001b[49m\u001b[43m,\u001b[49m\n\u001b[1;32m    177\u001b[0m \u001b[43m    \u001b[49m\u001b[43mnormalizer_params\u001b[49m\u001b[43m,\u001b[49m\n\u001b[1;32m    178\u001b[0m \u001b[43m    \u001b[49m\u001b[43mkey_loss\u001b[49m\u001b[43m,\u001b[49m\n\u001b[1;32m    179\u001b[0m \u001b[43m    \u001b[49m\u001b[43moptimizer_state\u001b[49m\u001b[38;5;241;43m=\u001b[39;49m\u001b[43mnet_optimizer_state\u001b[49m\u001b[43m)\u001b[49m\n\u001b[1;32m    181\u001b[0m (_, out_data), type_params, type_optimizer_state \u001b[38;5;241m=\u001b[39m type_gradient_update_fn(\n\u001b[1;32m    182\u001b[0m     net_params,\n\u001b[1;32m    183\u001b[0m     type_params,\n\u001b[0;32m   (...)\u001b[0m\n\u001b[1;32m    186\u001b[0m     key_loss,\n\u001b[1;32m    187\u001b[0m     optimizer_state\u001b[38;5;241m=\u001b[39mtype_optimizer_state)\n\u001b[1;32m    189\u001b[0m \u001b[38;5;28;01mreturn\u001b[39;00m (net_optimizer_state, type_optimizer_state, net_params, type_params, out_data[\u001b[38;5;124m'\u001b[39m\u001b[38;5;124mnormalizer_params\u001b[39m\u001b[38;5;124m'\u001b[39m], data_chunk_id\u001b[38;5;241m+\u001b[39m\u001b[38;5;241m1\u001b[39m, key), out_data[\u001b[38;5;124m'\u001b[39m\u001b[38;5;124mloss_metrics\u001b[39m\u001b[38;5;124m'\u001b[39m]\n",
      "File \u001b[0;32m~/phys_sim/src/train/gradients.py:41\u001b[0m, in \u001b[0;36mgradient_update_fn.<locals>.f\u001b[0;34m(optimizer_state, *args)\u001b[0m\n\u001b[1;32m     40\u001b[0m \u001b[38;5;28;01mdef\u001b[39;00m \u001b[38;5;21mf\u001b[39m(\u001b[38;5;241m*\u001b[39margs, optimizer_state):\n\u001b[0;32m---> 41\u001b[0m   value, grads \u001b[38;5;241m=\u001b[39m \u001b[43mloss_and_pgrad_fn\u001b[49m\u001b[43m(\u001b[49m\u001b[38;5;241;43m*\u001b[39;49m\u001b[43margs\u001b[49m\u001b[43m)\u001b[49m\n\u001b[1;32m     42\u001b[0m   params_update, optimizer_state \u001b[38;5;241m=\u001b[39m optimizer\u001b[38;5;241m.\u001b[39mupdate(grads, optimizer_state)\n\u001b[1;32m     43\u001b[0m   params \u001b[38;5;241m=\u001b[39m optax\u001b[38;5;241m.\u001b[39mapply_updates(args[\u001b[38;5;241m0\u001b[39m], params_update)\n",
      "File \u001b[0;32m~/phys_sim/src/train/gradients.py:13\u001b[0m, in \u001b[0;36mloss_and_pgrad.<locals>.h\u001b[0;34m(*args, **kwargs)\u001b[0m\n\u001b[1;32m     12\u001b[0m \u001b[38;5;28;01mdef\u001b[39;00m \u001b[38;5;21mh\u001b[39m(\u001b[38;5;241m*\u001b[39margs, \u001b[38;5;241m*\u001b[39m\u001b[38;5;241m*\u001b[39mkwargs):\n\u001b[0;32m---> 13\u001b[0m   value, grad \u001b[38;5;241m=\u001b[39m \u001b[43mg\u001b[49m\u001b[43m(\u001b[49m\u001b[38;5;241;43m*\u001b[39;49m\u001b[43margs\u001b[49m\u001b[43m,\u001b[49m\u001b[43m \u001b[49m\u001b[38;5;241;43m*\u001b[39;49m\u001b[38;5;241;43m*\u001b[39;49m\u001b[43mkwargs\u001b[49m\u001b[43m)\u001b[49m\n\u001b[1;32m     14\u001b[0m   \u001b[38;5;28;01mreturn\u001b[39;00m value, jax\u001b[38;5;241m.\u001b[39mlax\u001b[38;5;241m.\u001b[39mpmean(grad, axis_name\u001b[38;5;241m=\u001b[39mpmap_axis_name)\n",
      "    \u001b[0;31m[... skipping hidden 8 frame]\u001b[0m\n",
      "File \u001b[0;32m~/phys_sim/src/train/losses.py:172\u001b[0m, in \u001b[0;36mcompute_env_loss\u001b[0;34m(net_params, type_params, data_chunk_id, normalizer_params, rng, network, env, train_data, unroll_length)\u001b[0m\n\u001b[1;32m    159\u001b[0m \u001b[38;5;28;01mdef\u001b[39;00m \u001b[38;5;21mcompute_env_loss\u001b[39m(\n\u001b[1;32m    160\u001b[0m     net_params: Tuple[jp\u001b[38;5;241m.\u001b[39mndarray, jp\u001b[38;5;241m.\u001b[39mndarray],\n\u001b[1;32m    161\u001b[0m     type_params: Sequence[jp\u001b[38;5;241m.\u001b[39mndarray],\n\u001b[0;32m   (...)\u001b[0m\n\u001b[1;32m    167\u001b[0m     train_data: List[envs\u001b[38;5;241m.\u001b[39mState],\n\u001b[1;32m    168\u001b[0m     unroll_length: \u001b[38;5;28mint\u001b[39m \u001b[38;5;241m=\u001b[39m \u001b[38;5;241m20\u001b[39m) \u001b[38;5;241m-\u001b[39m\u001b[38;5;241m>\u001b[39m Tuple[jp\u001b[38;5;241m.\u001b[39mndarray, Any]:\n\u001b[1;32m    170\u001b[0m     key1, key2 \u001b[38;5;241m=\u001b[39m jax\u001b[38;5;241m.\u001b[39mrandom\u001b[38;5;241m.\u001b[39msplit(rng)\n\u001b[0;32m--> 172\u001b[0m     final_state, data \u001b[38;5;241m=\u001b[39m unroll_policy(ppo_network,normalizer_params,\u001b[43mparams\u001b[49m,start_state,key1,env,unroll_length)\n\u001b[1;32m    174\u001b[0m     normalizer_params \u001b[38;5;241m=\u001b[39m running_statistics\u001b[38;5;241m.\u001b[39mupdate(\n\u001b[1;32m    175\u001b[0m         normalizer_params,\n\u001b[1;32m    176\u001b[0m         data\u001b[38;5;241m.\u001b[39mobservation,\n\u001b[1;32m    177\u001b[0m         pmap_axis_name\u001b[38;5;241m=\u001b[39m_PMAP_AXIS_NAME)\n\u001b[1;32m    181\u001b[0m     total_loss \u001b[38;5;241m=\u001b[39m \u001b[38;5;241m0\u001b[39m\n",
      "\u001b[0;31mNameError\u001b[0m: name 'params' is not defined"
     ]
    }
   ],
   "source": [
    "make_in_network_partial = partial(make_feed_forward,**params['env_network']['in_params'])\n",
    "make_out_network_partial = partial(make_feed_forward,**params['env_network']['out_params'])\n",
    "\n",
    "final_network_param_save = env_param_path_save+\"params.pkl\"\n",
    "\n",
    "train_data = gather_rollout_data(rollout_path_save, 3)\n",
    "\n",
    "if not os.path.exists(final_network_param_save):\n",
    "    print('Starting training Env...')\n",
    "\n",
    "    mk_policy, norm_params, env_network_params, metrics = train_env(train_data=train_data,make_in_part=make_in_network_partial, make_out_part=make_out_network_partial,environment=env, **params['env_train'], param_path=env_param_path_save)\n",
    "\n",
    "    save_params((norm_params,env_network_params), path=final_network_param_save)\n",
    "\n",
    "    print(\"Training complete\")\n",
    "else:\n",
    "    print(\"Training already done\")"
   ]
  },
  {
   "cell_type": "code",
   "execution_count": null,
   "metadata": {},
   "outputs": [],
   "source": [
    "make_ppo_network_partial = partial(make_ppo_network,\n",
    "                            head_name = params['agent_network']['name'],        \n",
    "                            head_params = params['agent_network']['head_params'],\n",
    "                            value_params = params['agent_network']['ppo_params']['value_params'],\n",
    "                            policy_params = params['agent_network']['ppo_params']['policy_params'])\n",
    "\n",
    "final_param_save = network_param_path_save+\"params.pkl\"\n",
    "\n",
    "if not os.path.exists(final_param_save):\n",
    "    print('Starting training PPO agent...')\n",
    "\n",
    "    mk_policy, norm_params, policy_params, metrics = train_ppo(make_ppo_network_partial=make_ppo_network_partial,environment=env, **params['agent_train'], param_path=network_param_path_save)\n",
    "\n",
    "    save_params((norm_params,policy_params), path=final_param_save)\n",
    "\n",
    "    print(\"Training complete\")\n",
    "else:\n",
    "    print(\"Training already done\")\n"
   ]
  },
  {
   "cell_type": "code",
   "execution_count": null,
   "metadata": {},
   "outputs": [],
   "source": [
    "print(\"Loading parameters\")\n",
    "\n",
    "ppo_net = make_ppo_network_partial(\n",
    "    input = env.observation_size,\n",
    "    output = env.action_size)\n",
    "\n",
    "norm_params,policy_params = load_params(final_param_save)\n",
    "\n",
    "env = HiddenStateWrapper(env)\n",
    "\n",
    "env = CompleteAutoNormWrapper(env, running_statistics.normalize ,norm_params)\n",
    "\n",
    "policy = make_ppo_policy(policy_params, ppo_net)\n",
    "\n",
    "for rng in range(3):\n",
    "    rollout = record(env, policy, rng, path=rollout_path_save)\n",
    "\n",
    "    render_rollout(env, rollout, 1 ,title=f\"Rollout {params['network']['name']} {rng}\")"
   ]
  }
 ],
 "metadata": {
  "kernelspec": {
   "display_name": "mujoco_env",
   "language": "python",
   "name": "python3"
  },
  "language_info": {
   "codemirror_mode": {
    "name": "ipython",
    "version": 3
   },
   "file_extension": ".py",
   "mimetype": "text/x-python",
   "name": "python",
   "nbconvert_exporter": "python",
   "pygments_lexer": "ipython3",
   "version": "3.10.14"
  }
 },
 "nbformat": 4,
 "nbformat_minor": 2
}
