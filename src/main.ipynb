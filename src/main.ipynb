{
 "cells": [
  {
   "cell_type": "code",
   "execution_count": 1,
   "metadata": {},
   "outputs": [
    {
     "name": "stdout",
     "output_type": "stream",
     "text": [
      "All environments registered successfully!\n"
     ]
    }
   ],
   "source": [
    "from functools import partial\n",
    "import os\n",
    "from utils.save_load import load_config, save_params, record, load_params\n",
    "from train.train_ppo import train_ppo\n",
    "from train.train_env import train_env\n",
    "from networks.ppo import make_ppo_network, make_ppo_policy\n",
    "from networks.networks import make_feed_forward\n",
    "from rendering.display import render_rollout, pretty_print_object\n",
    "from envs.custom_wrappers import CompleteAutoNormWrapper, HiddenStateWrapper\n",
    "from brax.training.acme import running_statistics\n",
    "from utils.data_funcs import gather_rollout_data\n",
    "\n",
    "\n",
    "from brax import envs\n",
    "import envs as my_envs #don't remove this import"
   ]
  },
  {
   "cell_type": "code",
   "execution_count": 2,
   "metadata": {},
   "outputs": [],
   "source": [
    "MAIN_FOLDER = '../'\n",
    "CONFIG_PATH = f\"{MAIN_FOLDER}configs/debug_config.yaml\"\n",
    "params = load_config(CONFIG_PATH)\n",
    "save_folder = f\"{MAIN_FOLDER}data/go1/{params['agent_network']['name']}\"\n",
    "network_param_path_save = f\"{save_folder}/network_params/\"\n",
    "env_param_path_save = f\"{save_folder}/env_params/\"\n",
    "rollout_path_save = f\"{save_folder}/rollouts/\"\n",
    "\n",
    "os.makedirs(network_param_path_save, exist_ok=True)\n",
    "os.makedirs(rollout_path_save, exist_ok=True)\n",
    "os.makedirs(env_param_path_save, exist_ok=True)\n"
   ]
  },
  {
   "cell_type": "code",
   "execution_count": 3,
   "metadata": {},
   "outputs": [],
   "source": [
    "env = envs.get_environment(params['enviroment']['name'],**params['enviroment']['enviroment_params'], scene_path=f\"{MAIN_FOLDER}data/go1/\")"
   ]
  },
  {
   "cell_type": "code",
   "execution_count": 4,
   "metadata": {},
   "outputs": [
    {
     "name": "stdout",
     "output_type": "stream",
     "text": [
      "Starting training Env...\n",
      "Iteration 0\n",
      "starting training epoch compile...\n",
      "starting step compile...\n",
      "finished step compile!\n",
      "finished training epoch compile!\n",
      "data 0:1 network loss: nan, type loss: nan\n",
      "data 1:2 network loss: nan, type loss: nan\n",
      "Iteration 1\n",
      "data 0:1 network loss: nan, type loss: nan\n",
      "data 1:2 network loss: nan, type loss: nan\n",
      "Iteration 2\n",
      "data 0:1 network loss: nan, type loss: nan\n",
      "data 1:2 network loss: nan, type loss: nan\n",
      "Iteration 3\n",
      "data 0:1 network loss: nan, type loss: nan\n",
      "data 1:2 network loss: nan, type loss: nan\n",
      "Iteration 4\n",
      "data 0:1 network loss: nan, type loss: nan\n",
      "data 1:2 network loss: nan, type loss: nan\n"
     ]
    },
    {
     "ename": "AssertionError",
     "evalue": "None",
     "output_type": "error",
     "traceback": [
      "\u001b[0;31m---------------------------------------------------------------------------\u001b[0m",
      "\u001b[0;31mAssertionError\u001b[0m                            Traceback (most recent call last)",
      "Cell \u001b[0;32mIn[4], line 11\u001b[0m\n\u001b[1;32m      7\u001b[0m \u001b[38;5;28mprint\u001b[39m(\u001b[38;5;124m'\u001b[39m\u001b[38;5;124mStarting training Env...\u001b[39m\u001b[38;5;124m'\u001b[39m)\n\u001b[1;32m      9\u001b[0m train_data \u001b[38;5;241m=\u001b[39m gather_rollout_data(rollout_path_save, \u001b[38;5;241m1\u001b[39m)\n\u001b[0;32m---> 11\u001b[0m norm_params, env_network_params, type_params \u001b[38;5;241m=\u001b[39m \u001b[43mtrain_env\u001b[49m\u001b[43m(\u001b[49m\u001b[43mtrain_data\u001b[49m\u001b[38;5;241;43m=\u001b[39;49m\u001b[43mtrain_data\u001b[49m\u001b[43m,\u001b[49m\u001b[43mmake_in_part\u001b[49m\u001b[38;5;241;43m=\u001b[39;49m\u001b[43mmake_in_network_partial\u001b[49m\u001b[43m,\u001b[49m\u001b[43m \u001b[49m\u001b[43mmake_out_part\u001b[49m\u001b[38;5;241;43m=\u001b[39;49m\u001b[43mmake_out_network_partial\u001b[49m\u001b[43m,\u001b[49m\u001b[43menvironment\u001b[49m\u001b[38;5;241;43m=\u001b[39;49m\u001b[43menv\u001b[49m\u001b[43m,\u001b[49m\u001b[43m \u001b[49m\u001b[38;5;241;43m*\u001b[39;49m\u001b[38;5;241;43m*\u001b[39;49m\u001b[43mparams\u001b[49m\u001b[43m[\u001b[49m\u001b[38;5;124;43m'\u001b[39;49m\u001b[38;5;124;43menv_train\u001b[39;49m\u001b[38;5;124;43m'\u001b[39;49m\u001b[43m]\u001b[49m\u001b[43m,\u001b[49m\u001b[43m \u001b[49m\u001b[43mparam_path\u001b[49m\u001b[38;5;241;43m=\u001b[39;49m\u001b[43menv_param_path_save\u001b[49m\u001b[43m)\u001b[49m\n\u001b[1;32m     13\u001b[0m save_params((norm_params,env_network_params, type_params), path\u001b[38;5;241m=\u001b[39mfinal_network_param_save)\n\u001b[1;32m     15\u001b[0m \u001b[38;5;28mprint\u001b[39m(\u001b[38;5;124m\"\u001b[39m\u001b[38;5;124mTraining complete\u001b[39m\u001b[38;5;124m\"\u001b[39m)\n",
      "File \u001b[0;32m~/phys_sim/src/train/train_env.py:287\u001b[0m, in \u001b[0;36mtrain_env\u001b[0;34m(train_data, make_in_part, make_out_part, environment, name, learning_rate, seed, unroll_length, type_size, type_split_every, data_loops, num_minibatches, normalize_observations, progress_fn, policy_params_fn, randomization_fn, param_path)\u001b[0m\n\u001b[1;32m    281\u001b[0m     key_envs \u001b[38;5;241m=\u001b[39m jax\u001b[38;5;241m.\u001b[39mvmap(\n\u001b[1;32m    282\u001b[0m         \u001b[38;5;28;01mlambda\u001b[39;00m x, s: jax\u001b[38;5;241m.\u001b[39mrandom\u001b[38;5;241m.\u001b[39msplit(x[\u001b[38;5;241m0\u001b[39m], s),\n\u001b[1;32m    283\u001b[0m         in_axes\u001b[38;5;241m=\u001b[39m(\u001b[38;5;241m0\u001b[39m, \u001b[38;5;28;01mNone\u001b[39;00m))(key_envs, key_envs\u001b[38;5;241m.\u001b[39mshape[\u001b[38;5;241m1\u001b[39m])\n\u001b[1;32m    285\u001b[0m \u001b[38;5;66;03m# If there was no mistakes the training_state should still be identical on all\u001b[39;00m\n\u001b[1;32m    286\u001b[0m \u001b[38;5;66;03m# devices.\u001b[39;00m\n\u001b[0;32m--> 287\u001b[0m \u001b[43mpmap\u001b[49m\u001b[38;5;241;43m.\u001b[39;49m\u001b[43massert_is_replicated\u001b[49m\u001b[43m(\u001b[49m\u001b[43mtraining_state\u001b[49m\u001b[43m)\u001b[49m\n\u001b[1;32m    288\u001b[0m pmap\u001b[38;5;241m.\u001b[39msynchronize_hosts()\n\u001b[1;32m    289\u001b[0m \u001b[38;5;28;01mreturn\u001b[39;00m _unpmap(training_state\u001b[38;5;241m.\u001b[39mnormalizer_params), _unpmap(training_state\u001b[38;5;241m.\u001b[39mparams), _unpmap(training_state\u001b[38;5;241m.\u001b[39mfull_type_params)\n",
      "File \u001b[0;32m~/anaconda3/envs/mujoco_env/lib/python3.10/site-packages/brax/training/pmap.py:70\u001b[0m, in \u001b[0;36massert_is_replicated\u001b[0;34m(x, debug)\u001b[0m\n\u001b[1;32m     62\u001b[0m \u001b[38;5;250m\u001b[39m\u001b[38;5;124;03m\"\"\"Returns whether x is replicated.\u001b[39;00m\n\u001b[1;32m     63\u001b[0m \n\u001b[1;32m     64\u001b[0m \u001b[38;5;124;03mShould be called from a non-jitted code.\u001b[39;00m\n\u001b[0;32m   (...)\u001b[0m\n\u001b[1;32m     67\u001b[0m \u001b[38;5;124;03m  debug: Debug message in case of failure.\u001b[39;00m\n\u001b[1;32m     68\u001b[0m \u001b[38;5;124;03m\"\"\"\u001b[39;00m\n\u001b[1;32m     69\u001b[0m f \u001b[38;5;241m=\u001b[39m functools\u001b[38;5;241m.\u001b[39mpartial(is_replicated, axis_name\u001b[38;5;241m=\u001b[39m\u001b[38;5;124m'\u001b[39m\u001b[38;5;124mi\u001b[39m\u001b[38;5;124m'\u001b[39m)\n\u001b[0;32m---> 70\u001b[0m \u001b[38;5;28;01massert\u001b[39;00m jax\u001b[38;5;241m.\u001b[39mpmap(f, axis_name\u001b[38;5;241m=\u001b[39m\u001b[38;5;124m'\u001b[39m\u001b[38;5;124mi\u001b[39m\u001b[38;5;124m'\u001b[39m)(x)[\u001b[38;5;241m0\u001b[39m], debug\n",
      "\u001b[0;31mAssertionError\u001b[0m: None"
     ]
    }
   ],
   "source": [
    "make_in_network_partial = partial(make_feed_forward,**params['env_network']['in_params'])\n",
    "make_out_network_partial = partial(make_feed_forward,**params['env_network']['out_params'])\n",
    "\n",
    "final_network_param_save = env_param_path_save+\"params.pkl\"\n",
    "\n",
    "if not os.path.exists(final_network_param_save):\n",
    "    print('Starting training Env...')\n",
    "    \n",
    "    train_data = gather_rollout_data(rollout_path_save, 1)\n",
    "\n",
    "    norm_params, env_network_params, type_params = train_env(train_data=train_data,make_in_part=make_in_network_partial, make_out_part=make_out_network_partial,environment=env, **params['env_train'], param_path=env_param_path_save)\n",
    "\n",
    "    save_params((norm_params,env_network_params, type_params), path=final_network_param_save)\n",
    "\n",
    "    print(\"Training complete\")\n",
    "else:\n",
    "    print(\"Training already done\")\n"
   ]
  },
  {
   "cell_type": "code",
   "execution_count": null,
   "metadata": {},
   "outputs": [
    {
     "name": "stdout",
     "output_type": "stream",
     "text": [
      "Training already done\n"
     ]
    }
   ],
   "source": [
    "make_ppo_network_partial = partial(make_ppo_network,\n",
    "                            head_name = params['agent_network']['name'],        \n",
    "                            head_params = params['agent_network']['head_params'],\n",
    "                            value_params = params['agent_network']['ppo_params']['value_params'],\n",
    "                            policy_params = params['agent_network']['ppo_params']['policy_params'])\n",
    "\n",
    "final_param_save = network_param_path_save+\"params.pkl\"\n",
    "\n",
    "if not os.path.exists(final_param_save):\n",
    "    print('Starting training PPO agent...')\n",
    "\n",
    "    mk_policy, norm_params, policy_params, metrics = train_ppo(make_ppo_network_partial=make_ppo_network_partial,environment=env, **params['agent_train'], param_path=network_param_path_save)\n",
    "\n",
    "    save_params((norm_params,policy_params), path=final_param_save)\n",
    "\n",
    "    print(\"Training complete\")\n",
    "else:\n",
    "    print(\"Training already done\")\n"
   ]
  },
  {
   "cell_type": "code",
   "execution_count": null,
   "metadata": {},
   "outputs": [
    {
     "name": "stdout",
     "output_type": "stream",
     "text": [
      "Rollouts already done\n"
     ]
    }
   ],
   "source": [
    "if not os.path.exists(rollout_path_save):\n",
    "\n",
    "    print(\"Loading parameters\")\n",
    "\n",
    "    ppo_net = make_ppo_network_partial(\n",
    "        input = env.observation_size,\n",
    "        output = env.action_size)\n",
    "\n",
    "    norm_params,policy_params = load_params(final_param_save)\n",
    "\n",
    "    env = HiddenStateWrapper(env)\n",
    "\n",
    "    env = CompleteAutoNormWrapper(env, running_statistics.normalize ,norm_params)\n",
    "\n",
    "    policy = make_ppo_policy(policy_params, ppo_net)\n",
    "\n",
    "    for rng in range(3):\n",
    "        data = record(env, policy, rng, path=rollout_path_save)\n",
    "\n",
    "        render_rollout(env, data[0], 1 ,title=f\"Rollout {params['agent_network']['name']} {rng}\")\n",
    "\n",
    "else:\n",
    "    print(\"Rollouts already done\")"
   ]
  }
 ],
 "metadata": {
  "kernelspec": {
   "display_name": "mujoco_env",
   "language": "python",
   "name": "python3"
  },
  "language_info": {
   "codemirror_mode": {
    "name": "ipython",
    "version": 3
   },
   "file_extension": ".py",
   "mimetype": "text/x-python",
   "name": "python",
   "nbconvert_exporter": "python",
   "pygments_lexer": "ipython3",
   "version": "3.10.14"
  }
 },
 "nbformat": 4,
 "nbformat_minor": 2
}
