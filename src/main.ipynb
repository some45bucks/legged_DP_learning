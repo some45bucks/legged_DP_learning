{
 "cells": [
  {
   "cell_type": "code",
   "execution_count": 13,
   "metadata": {},
   "outputs": [],
   "source": [
    "from functools import partial\n",
    "import os\n",
    "from utils.save_load import load_config, save_params, record, load_params\n",
    "from train.train_ppo import train_ppo\n",
    "from train.train_env import train_env\n",
    "from networks.ppo import make_ppo_network, make_ppo_policy\n",
    "from networks.networks import make_feed_forward, make_lstm\n",
    "from rendering.display import render_rollout, pretty_print_object\n",
    "from envs.custom_wrappers import CompleteAutoNormWrapper, HiddenStateWrapper\n",
    "from brax.training.acme import running_statistics\n",
    "from utils.data_funcs import gather_rollout_data\n",
    "\n",
    "\n",
    "from brax import envs\n",
    "import jax\n",
    "import envs as my_envs #don't remove this import"
   ]
  },
  {
   "cell_type": "code",
   "execution_count": 14,
   "metadata": {},
   "outputs": [],
   "source": [
    "MAIN_FOLDER = '../'\n",
    "CONFIG_PATH = f\"{MAIN_FOLDER}configs/debug_config.yaml\"\n",
    "params = load_config(CONFIG_PATH)\n",
    "save_folder = f\"{MAIN_FOLDER}data/go1/{params['agent_network']['name']}\"\n",
    "network_param_path_save = f\"{save_folder}/network_params/\"\n",
    "env_param_path_save = f\"{save_folder}/env_params/\"\n",
    "rollout_path_save = f\"{save_folder}/rollouts/\"\n",
    "\n",
    "os.makedirs(network_param_path_save, exist_ok=True)\n",
    "os.makedirs(rollout_path_save, exist_ok=True)\n",
    "os.makedirs(env_param_path_save, exist_ok=True)\n",
    "\n",
    "ROLL_OUTS = 3"
   ]
  },
  {
   "cell_type": "code",
   "execution_count": 15,
   "metadata": {},
   "outputs": [],
   "source": [
    "env = envs.get_environment(params['enviroment']['name'],**params['enviroment']['enviroment_params'], scene_path=f\"{MAIN_FOLDER}data/go1/\")"
   ]
  },
  {
   "cell_type": "code",
   "execution_count": 16,
   "metadata": {},
   "outputs": [
    {
     "name": "stdout",
     "output_type": "stream",
     "text": [
      "Starting training Env...\n",
      "Iteration 0\n",
      "starting training epoch compile...\n",
      "starting step compile...\n",
      "finished step compile!\n",
      "finished training epoch compile!\n",
      "Average network loss: 21.269981384277344, Average type loss: 21.269981384277344\n",
      "Iteration 1\n",
      "Average network loss: 21.253774642944336, Average type loss: 21.253774642944336\n",
      "Iteration 2\n",
      "Average network loss: 21.16466522216797, Average type loss: 21.16466522216797\n",
      "Iteration 3\n",
      "Average network loss: 21.133750915527344, Average type loss: 21.133750915527344\n",
      "Iteration 4\n",
      "Average network loss: 21.092090606689453, Average type loss: 21.092090606689453\n",
      "Iteration 5\n",
      "Average network loss: 21.002437591552734, Average type loss: 21.002437591552734\n",
      "Iteration 6\n",
      "Average network loss: 20.965776443481445, Average type loss: 20.965776443481445\n",
      "Iteration 7\n",
      "Average network loss: 20.971193313598633, Average type loss: 20.971193313598633\n",
      "Iteration 8\n",
      "Average network loss: 20.919933319091797, Average type loss: 20.919933319091797\n",
      "Iteration 9\n",
      "Average network loss: 20.91168975830078, Average type loss: 20.91168975830078\n",
      "Training complete\n"
     ]
    }
   ],
   "source": [
    "make_in_network_partial = partial(make_feed_forward,**params['env_network']['in_params'])\n",
    "make_out_network_partial = partial(make_feed_forward,**params['env_network']['out_params'])\n",
    "\n",
    "final_env_param_save = env_param_path_save+\"params.pkl\"\n",
    "\n",
    "if not os.path.exists(final_env_param_save) and os.path.exists(rollout_path_save+f\"rollout_{ROLL_OUTS}.pkl\"):\n",
    "    print('Starting training Env...')\n",
    "    \n",
    "    train_data = gather_rollout_data(rollout_path_save, ROLL_OUTS+1)\n",
    "\n",
    "    norm_params, env_network_params, type_params = train_env(train_data=train_data,make_in_part=make_in_network_partial, make_out_part=make_out_network_partial,environment=env, **params['env_train'], param_path=env_param_path_save)\n",
    "\n",
    "    save_params((norm_params,env_network_params, type_params), path=final_env_param_save)\n",
    "\n",
    "    print(\"Training complete\")\n",
    "else:\n",
    "    print(\"Training already done/ Not enough rollouts\")\n"
   ]
  },
  {
   "cell_type": "code",
   "execution_count": 17,
   "metadata": {},
   "outputs": [
    {
     "name": "stdout",
     "output_type": "stream",
     "text": [
      "Training already done\n"
     ]
    }
   ],
   "source": [
    "make_ppo_network_partial = partial(make_ppo_network,\n",
    "                            head_name = params['agent_network']['name'],        \n",
    "                            head_params = params['agent_network']['head_params'],\n",
    "                            value_params = params['agent_network']['ppo_params']['value_params'],\n",
    "                            policy_params = params['agent_network']['ppo_params']['policy_params'])\n",
    "\n",
    "final_param_save = network_param_path_save+\"params.pkl\"\n",
    "\n",
    "if not os.path.exists(final_param_save):\n",
    "    print('Starting training PPO agent...')\n",
    "\n",
    "    if os.path.exists(final_env_param_save):\n",
    "        print('Loading env params')\n",
    "        env_params = load_params(final_env_param_save)\n",
    "    else:\n",
    "        print('No env params found')\n",
    "        env_params = None\n",
    "            \n",
    "    mk_policy, norm_params, policy_params, metrics = train_ppo(make_ppo_network_partial=make_ppo_network_partial,make_in_part=make_in_network_partial,make_out_part=make_out_network_partial,environment=env, **params['agent_train'], param_path=network_param_path_save, env_params=env_params)\n",
    "\n",
    "    save_params((norm_params,policy_params), path=final_param_save)\n",
    "\n",
    "    print(\"Training complete\")\n",
    "else:\n",
    "    print(\"Training already done\")\n"
   ]
  },
  {
   "cell_type": "code",
   "execution_count": 18,
   "metadata": {},
   "outputs": [
    {
     "name": "stdout",
     "output_type": "stream",
     "text": [
      "Rollouts already done\n"
     ]
    }
   ],
   "source": [
    "if not os.path.exists(rollout_path_save+f\"rollout_{ROLL_OUTS}.pkl\"):\n",
    "\n",
    "    print(\"Loading parameters\")\n",
    "\n",
    "    ppo_net = make_ppo_network_partial(\n",
    "        input = env.observation_size,\n",
    "        output = env.action_size)\n",
    "\n",
    "    norm_params,policy_params = load_params(final_param_save)\n",
    "\n",
    "    env = HiddenStateWrapper(env)\n",
    "\n",
    "    env = CompleteAutoNormWrapper(env, running_statistics.normalize ,norm_params)\n",
    "\n",
    "    policy = make_ppo_policy(policy_params, ppo_net)\n",
    "    \n",
    "    j_reset = jax.jit(env.reset)\n",
    "    j_step = jax.jit(env.step)\n",
    "    j_policy = jax.jit(policy)\n",
    "\n",
    "    for rng in range(ROLL_OUTS+1):\n",
    "        data = record(j_reset, j_step, j_policy, rng, path=rollout_path_save)\n",
    "\n",
    "        if rng % (max(ROLL_OUTS//5,1)) == 0:\n",
    "            render_rollout(env, data[0], 1 ,title=f\"Rollout {params['agent_network']['name']} {rng}\")\n",
    "\n",
    "else:\n",
    "    print(\"Rollouts already done\")"
   ]
  }
 ],
 "metadata": {
  "kernelspec": {
   "display_name": "mujoco_env",
   "language": "python",
   "name": "python3"
  },
  "language_info": {
   "codemirror_mode": {
    "name": "ipython",
    "version": 3
   },
   "file_extension": ".py",
   "mimetype": "text/x-python",
   "name": "python",
   "nbconvert_exporter": "python",
   "pygments_lexer": "ipython3",
   "version": "3.10.2"
  }
 },
 "nbformat": 4,
 "nbformat_minor": 2
}
